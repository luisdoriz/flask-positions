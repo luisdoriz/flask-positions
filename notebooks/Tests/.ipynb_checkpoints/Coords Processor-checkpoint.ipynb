{
 "cells": [
  {
   "cell_type": "code",
   "execution_count": 29,
   "id": "golden-humor",
   "metadata": {},
   "outputs": [],
   "source": [
    "import requests\n",
    "from datetime import datetime"
   ]
  },
  {
   "cell_type": "code",
   "execution_count": 87,
   "id": "suspended-baghdad",
   "metadata": {},
   "outputs": [],
   "source": [
    "r = requests.post(\"http://0.0.0.0:3001/clean_beacon_data\", json={\"timestamp\": str(datetime.fromisoformat(\"2021-01-08T22:19:09\"))})"
   ]
  },
  {
   "cell_type": "code",
   "execution_count": 88,
   "id": "british-stone",
   "metadata": {},
   "outputs": [
    {
     "data": {
      "text/plain": [
       "b'{\"status\": \"success\", \"message\": \"process triggered\"}'"
      ]
     },
     "execution_count": 88,
     "metadata": {},
     "output_type": "execute_result"
    }
   ],
   "source": [
    "r.content"
   ]
  },
  {
   "cell_type": "code",
   "execution_count": 61,
   "id": "honey-participant",
   "metadata": {},
   "outputs": [
    {
     "data": {
      "text/plain": [
       "'2021-11-20 03:17:12'"
      ]
     },
     "execution_count": 61,
     "metadata": {},
     "output_type": "execute_result"
    }
   ],
   "source": [
    "str(datetime.fromisoformat(\"2021-11-20T03:17:12\"))"
   ]
  },
  {
   "cell_type": "code",
   "execution_count": null,
   "id": "coral-summit",
   "metadata": {},
   "outputs": [],
   "source": []
  }
 ],
 "metadata": {
  "kernelspec": {
   "display_name": "Python 3",
   "language": "python",
   "name": "python3"
  },
  "language_info": {
   "codemirror_mode": {
    "name": "ipython",
    "version": 3
   },
   "file_extension": ".py",
   "mimetype": "text/x-python",
   "name": "python",
   "nbconvert_exporter": "python",
   "pygments_lexer": "ipython3",
   "version": "3.8.5"
  }
 },
 "nbformat": 4,
 "nbformat_minor": 5
}
