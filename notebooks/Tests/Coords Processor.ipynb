{
 "cells": [
  {
   "cell_type": "code",
   "execution_count": 29,
   "id": "dramatic-stevens",
   "metadata": {},
   "outputs": [],
   "source": [
    "import requests\n",
    "from datetime import datetime"
   ]
  },
  {
   "cell_type": "code",
   "execution_count": 86,
   "id": "acceptable-beginning",
   "metadata": {},
   "outputs": [],
   "source": [
    "r = requests.post(\"http://0.0.0.0:3001/clean_beacon_data\", json={\"timestamp\": str(datetime.fromisoformat(\"2021-11-08T22:19:09\"))})"
   ]
  },
  {
   "cell_type": "code",
   "execution_count": 85,
   "id": "packed-seating",
   "metadata": {},
   "outputs": [
    {
     "data": {
      "text/plain": [
       "b'{\"status\": \"success\", \"message\": \"process triggered\"}'"
      ]
     },
     "execution_count": 85,
     "metadata": {},
     "output_type": "execute_result"
    }
   ],
   "source": [
    "r.content"
   ]
  },
  {
   "cell_type": "code",
   "execution_count": 61,
   "id": "sixth-technique",
   "metadata": {},
   "outputs": [
    {
     "data": {
      "text/plain": [
       "'2021-11-20 03:17:12'"
      ]
     },
     "execution_count": 61,
     "metadata": {},
     "output_type": "execute_result"
    }
   ],
   "source": [
    "str(datetime.fromisoformat(\"2021-11-20T03:17:12\"))"
   ]
  },
  {
   "cell_type": "code",
   "execution_count": null,
   "id": "alpha-relationship",
   "metadata": {},
   "outputs": [],
   "source": []
  }
 ],
 "metadata": {
  "kernelspec": {
   "display_name": "Python 3",
   "language": "python",
   "name": "python3"
  },
  "language_info": {
   "codemirror_mode": {
    "name": "ipython",
    "version": 3
   },
   "file_extension": ".py",
   "mimetype": "text/x-python",
   "name": "python",
   "nbconvert_exporter": "python",
   "pygments_lexer": "ipython3",
   "version": "3.8.5"
  }
 },
 "nbformat": 4,
 "nbformat_minor": 5
}
