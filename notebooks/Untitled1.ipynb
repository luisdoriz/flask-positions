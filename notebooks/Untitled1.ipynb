{
 "cells": [
  {
   "cell_type": "code",
   "execution_count": 5,
   "id": "resistant-strap",
   "metadata": {},
   "outputs": [],
   "source": [
    "INT_MAX = 10000\n",
    "\n",
    "def orientation(p1, p2, p3) :\n",
    "\n",
    "    # difference in slopes between points p1-p2 and p2-p3\n",
    "    # if the first slope is higher, orientation is clockwise\n",
    "    # if the second slope is higher, orientation is counterclockwise\n",
    "    # if both slopes are equal, orientation is collinear\n",
    "    dif = (((p2[1] - p1[1]) * (p3[0] - p2[0])) - ((p2[0] - p1[0]) * (p3[1] - p2[1])))\n",
    "    \n",
    "    if dif == 0:\n",
    "        return 0 # Collinear\n",
    "    elif dif > 0:\n",
    "        return 1 # Clockwise\n",
    "    else:\n",
    "        return 2 # Counterclockwise"
   ]
  },
  {
   "cell_type": "code",
   "execution_count": 6,
   "id": "usual-property",
   "metadata": {},
   "outputs": [],
   "source": [
    "def onSegment(p1, point, p2):\n",
    "    # Check if point is in segment p1p2\n",
    "    if ((point[0] <= max(p1[0], p2[0])) &\n",
    "        (point[0] >= min(p1[0], p2[0])) &\n",
    "        (point[1] <= max(p1[1], p2[1])) &\n",
    "        (point[1] >= min(p1[1], p2[1]))):\n",
    "        return True\n",
    "        \n",
    "    return False"
   ]
  },
  {
   "cell_type": "code",
   "execution_count": 7,
   "id": "seventh-privacy",
   "metadata": {},
   "outputs": [],
   "source": [
    "def intersect(p1, p2, p3, inf):\n",
    "    \n",
    "    # Find the four orientations needed for\n",
    "    # general and special cases\n",
    "    o1 = orientation(p1, p2, p3)  # checks if p3 (point we're looking for) is right or left of segment p1p2\n",
    "    o2 = orientation(p1, p2, inf)  # checks if inf is right or left of segment p1p2\n",
    "    o3 = orientation(p3, inf, p1)  # checks if p1 (part of segment p1p2) is up or down of segment p3inf\n",
    "    o4 = orientation(p3, inf, p2)  # checks if p2 (part of segment p1p2) is up or down of segment p3inf\n",
    "\n",
    "    # General case\n",
    "    # if o1 and o2 are different, it means that the p1p2 segment is between p3inf horizontally\n",
    "    # if o3 and o4 are different, it means that the p1p2 segment is between p3inf vertically\n",
    "    if (o1 != o2 and o3 != o4):  \n",
    "        return True\n",
    "    \n",
    "    # Special Cases\n",
    "    # p1, p2 and p3 are colinear and\n",
    "    # p3 lies on segment p1p2\n",
    "    if (o1 == 0) and (onSegment(p1, p3, p2)):\n",
    "        return True\n",
    "\n",
    "    # p1, p2 and p3 are colinear and\n",
    "    # inf lies on segment p1p2\n",
    "    if (o2 == 0) and (onSegment(p1, inf, p2)):\n",
    "        return True\n",
    "\n",
    "    # p3, inf and p1 are colinear and\n",
    "    # p1 lies on segment p3inf\n",
    "    if (o3 == 0) and (onSegment(p3, p1, inf)):\n",
    "        return True\n",
    "\n",
    "    # p3, inf and p2 are colinear and\n",
    "    # p2 lies on segment p3inf\n",
    "    if (o4 == 0) and (onSegment(p3, p2, inf)):\n",
    "        return True\n",
    "\n",
    "    return False\n"
   ]
  },
  {
   "cell_type": "code",
   "execution_count": 8,
   "id": "auburn-software",
   "metadata": {},
   "outputs": [],
   "source": [
    "def isInsideArea(area, point):\n",
    "    n = len(area)\n",
    "    if (n < 3):\n",
    "        return False\n",
    "\n",
    "    # infinte collinear with point\n",
    "    extreme = (INT_MAX, point[1])\n",
    "    count = i = 0\n",
    "\n",
    "    while True:\n",
    "        next = (i + 1) % n\n",
    "        \n",
    "        # Check if the line segment from 'p' to\n",
    "        # 'extreme' intersects with the line\n",
    "        # segment from 'polygon[i]' to 'polygon[next]'\n",
    "        if (intersect(area[i], area[next], point, extreme)):           \n",
    "            # If the point 'p' is colinear with line\n",
    "            # segment 'i-next', then check if it lies\n",
    "            # on segment. If it lies, return true, otherwise false\n",
    "            if orientation(area[i], point,\n",
    "                        area[next]) == 0:\n",
    "                return onSegment(area[i], point,\n",
    "                                area[next])\n",
    "                                \n",
    "            count += 1\n",
    "            \n",
    "        i = next\n",
    "        \n",
    "        if (i == 0):\n",
    "            break\n",
    "    # Return true if count is odd, false otherwise\n",
    "    return (count % 2 == 1)"
   ]
  },
  {
   "cell_type": "code",
   "execution_count": 10,
   "id": "married-bermuda",
   "metadata": {},
   "outputs": [
    {
     "name": "stdout",
     "output_type": "stream",
     "text": [
      "True\n"
     ]
    }
   ],
   "source": [
    "\n",
    "areas = []\n",
    "area = [ (1, 1), (2, 3), (4, 4), (3,1), (3,2) ]\n",
    "point = [2.8, 3.4]\n",
    "print(isInsideArea(area, point))\n",
    "    # for area in areas:\n",
    "    #     print(isInsideArea(area, point))"
   ]
  },
  {
   "cell_type": "code",
   "execution_count": null,
   "id": "endangered-sperm",
   "metadata": {},
   "outputs": [],
   "source": []
  }
 ],
 "metadata": {
  "kernelspec": {
   "display_name": "Python 3",
   "language": "python",
   "name": "python3"
  },
  "language_info": {
   "codemirror_mode": {
    "name": "ipython",
    "version": 3
   },
   "file_extension": ".py",
   "mimetype": "text/x-python",
   "name": "python",
   "nbconvert_exporter": "python",
   "pygments_lexer": "ipython3",
   "version": "3.8.5"
  }
 },
 "nbformat": 4,
 "nbformat_minor": 5
}
